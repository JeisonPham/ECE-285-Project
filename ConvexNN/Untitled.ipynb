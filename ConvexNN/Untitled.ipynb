{
 "cells": [
  {
   "cell_type": "code",
   "execution_count": 1,
   "id": "4fc23f27",
   "metadata": {},
   "outputs": [
    {
     "name": "stdout",
     "output_type": "stream",
     "text": [
      "Files already downloaded\n",
      "Files already downloaded\n"
     ]
    },
    {
     "name": "stderr",
     "output_type": "stream",
     "text": [
      "..\\ConvexNN\\train.py:60: UserWarning: torch.nn.utils.clip_grad_norm is now deprecated in favor of torch.nn.utils.clip_grad_norm_.\n",
      "  torch.nn.utils.clip_grad_norm(model.parameters(), 5)\n"
     ]
    },
    {
     "name": "stdout",
     "output_type": "stream",
     "text": [
      "[1/100] train loss: 5622.5821533203125 test loss: 3085.466168212891\n",
      "[2/100] train loss: 2228.552001953125 test loss: nan\n",
      "[3/100] train loss: 1376.9917449951172 test loss: nan\n",
      "[4/100] train loss: 1013.8014541625977 test loss: nan\n",
      "[5/100] train loss: 814.9193710327148 test loss: nan\n",
      "[6/100] train loss: 690.7811279296875 test loss: nan\n",
      "[7/100] train loss: 603.2939254760743 test loss: nan\n",
      "[8/100] train loss: 540.5933181762696 test loss: nan\n",
      "[9/100] train loss: 492.1512710571289 test loss: nan\n",
      "[10/100] train loss: 455.37619705200194 test loss: nan\n",
      "[11/100] train loss: 423.59528121948244 test loss: 526.1307899475098\n",
      "[12/100] train loss: 399.0575881958008 test loss: nan\n",
      "[13/100] train loss: 380.0192588806152 test loss: nan\n",
      "[14/100] train loss: 362.3276611328125 test loss: nan\n",
      "[15/100] train loss: 348.25713577270506 test loss: nan\n",
      "[16/100] train loss: 336.11211547851565 test loss: nan\n",
      "[17/100] train loss: 325.6975212097168 test loss: nan\n",
      "[18/100] train loss: 317.9638786315918 test loss: nan\n",
      "[19/100] train loss: 310.2659568786621 test loss: nan\n",
      "[20/100] train loss: 303.12965927124026 test loss: nan\n",
      "[21/100] train loss: 298.51430587768556 test loss: 397.4923973083496\n",
      "[22/100] train loss: 291.8604019165039 test loss: nan\n",
      "[23/100] train loss: 288.6917068481445 test loss: nan\n",
      "[24/100] train loss: 284.63002319335936 test loss: nan\n",
      "[25/100] train loss: 281.1772911071777 test loss: nan\n",
      "[26/100] train loss: 277.0011726379395 test loss: nan\n",
      "[27/100] train loss: 275.243004989624 test loss: nan\n",
      "[28/100] train loss: 272.722452545166 test loss: nan\n",
      "[29/100] train loss: 270.6813430786133 test loss: nan\n",
      "[30/100] train loss: 269.90491485595703 test loss: nan\n",
      "[31/100] train loss: 266.853080368042 test loss: 355.8770355224609\n",
      "[32/100] train loss: 264.34462509155276 test loss: nan\n",
      "[33/100] train loss: 264.2796775817871 test loss: nan\n",
      "[34/100] train loss: 263.8192676544189 test loss: nan\n",
      "[35/100] train loss: 260.5698955535889 test loss: nan\n",
      "[36/100] train loss: 260.022176361084 test loss: nan\n",
      "[37/100] train loss: 258.96631813049316 test loss: nan\n",
      "[38/100] train loss: 257.4215545654297 test loss: nan\n",
      "[39/100] train loss: 257.1840515136719 test loss: nan\n",
      "[40/100] train loss: 258.1826679229736 test loss: nan\n",
      "[41/100] train loss: 256.89671325683594 test loss: 338.4321006774902\n",
      "[42/100] train loss: 255.6145725250244 test loss: nan\n",
      "[43/100] train loss: 254.4154888153076 test loss: nan\n",
      "[44/100] train loss: 255.37249908447265 test loss: nan\n",
      "[45/100] train loss: 254.72999114990233 test loss: nan\n",
      "[46/100] train loss: 254.18951911926268 test loss: nan\n",
      "[47/100] train loss: 253.66210136413574 test loss: nan\n",
      "[48/100] train loss: 252.7817325592041 test loss: nan\n",
      "[49/100] train loss: 253.21050186157225 test loss: nan\n",
      "[50/100] train loss: 252.43007888793946 test loss: nan\n",
      "[51/100] train loss: 251.53965377807617 test loss: 328.2963737487793\n",
      "[52/100] train loss: 251.3921329498291 test loss: nan\n",
      "[53/100] train loss: 252.3712116241455 test loss: nan\n",
      "[54/100] train loss: 251.32399559020996 test loss: nan\n",
      "[55/100] train loss: 251.94023513793945 test loss: nan\n",
      "[56/100] train loss: 250.9446605682373 test loss: nan\n",
      "[57/100] train loss: 251.59773788452148 test loss: nan\n",
      "[58/100] train loss: 251.0370185852051 test loss: nan\n",
      "[59/100] train loss: 250.99057540893554 test loss: nan\n",
      "[60/100] train loss: 251.11789360046387 test loss: nan\n",
      "[61/100] train loss: 249.69189682006837 test loss: 322.11808547973635\n",
      "[62/100] train loss: 249.68311195373536 test loss: nan\n",
      "[63/100] train loss: 250.95425109863282 test loss: nan\n",
      "[64/100] train loss: 249.0605209350586 test loss: nan\n",
      "[65/100] train loss: 250.18170700073242 test loss: nan\n",
      "[66/100] train loss: 249.3759422302246 test loss: nan\n",
      "[67/100] train loss: 249.4510841369629 test loss: nan\n",
      "[68/100] train loss: 249.786234664917 test loss: nan\n",
      "[69/100] train loss: 248.2539047241211 test loss: nan\n",
      "[70/100] train loss: 248.76305236816407 test loss: nan\n",
      "[71/100] train loss: 249.09190254211427 test loss: 319.43073959350585\n",
      "[72/100] train loss: 249.19806365966798 test loss: nan\n",
      "[73/100] train loss: 249.34807014465332 test loss: nan\n",
      "[74/100] train loss: 248.7337791442871 test loss: nan\n",
      "[75/100] train loss: 250.31778831481932 test loss: nan\n",
      "[76/100] train loss: 247.87714691162108 test loss: nan\n",
      "[77/100] train loss: 249.54404296875 test loss: nan\n",
      "[78/100] train loss: 248.0064697265625 test loss: nan\n",
      "[79/100] train loss: 249.60230598449706 test loss: nan\n",
      "[80/100] train loss: 248.44785346984864 test loss: nan\n",
      "[81/100] train loss: 248.7353885650635 test loss: 317.60041732788085\n",
      "[82/100] train loss: 248.99689826965331 test loss: nan\n",
      "[83/100] train loss: 249.4702926635742 test loss: nan\n",
      "[84/100] train loss: 248.27472915649415 test loss: nan\n",
      "[85/100] train loss: 247.70495986938477 test loss: nan\n",
      "[86/100] train loss: 248.61514587402343 test loss: nan\n",
      "[87/100] train loss: 248.4932590484619 test loss: nan\n",
      "[88/100] train loss: 248.04653053283693 test loss: nan\n",
      "[89/100] train loss: 248.39868850708007 test loss: nan\n",
      "[90/100] train loss: 249.03577041625977 test loss: nan\n",
      "[91/100] train loss: 248.7157127380371 test loss: 315.5440933227539\n",
      "[92/100] train loss: 247.80730972290038 test loss: nan\n",
      "[93/100] train loss: 249.07800216674804 test loss: nan\n",
      "[94/100] train loss: 248.93791656494142 test loss: nan\n",
      "[95/100] train loss: 248.91806831359864 test loss: nan\n",
      "[96/100] train loss: 247.51111946105956 test loss: nan\n",
      "[97/100] train loss: 247.46648330688475 test loss: nan\n",
      "[98/100] train loss: 248.17990341186524 test loss: nan\n",
      "[99/100] train loss: 247.78380584716797 test loss: nan\n",
      "[100/100] train loss: 248.80476303100585 test loss: nan\n"
     ]
    },
    {
     "data": {
      "image/png": "[encoded data removed]",
      "text/plain": [
       "<Figure size 640x480 with 3 Axes>"
      ]
     },
     "metadata": {},
     "output_type": "display_data"
    },
    {
     "name": "stdout",
     "output_type": "stream",
     "text": [
      "314.5770950317383\n"
     ]
    }
   ],
   "source": [
    "import sys\n",
    "sys.path.append(\"..\")\n",
    "import numpy as np\n",
    "from sklearn import svm, metrics\n",
    "import matplotlib.pyplot as plt\n",
    "import torchvision\n",
    "from Noisy_MNIST import NoisyMNIST\n",
    "from ConvexNN.factory import generate_model\n",
    "\n",
    "model, train_dataset, test_dataset = generate_model(8000, 28 * 28, 100, 1e-4, None, learning_rate=1e-5,\n",
    "                   batch_size=25, rho=1, device='cuda')"
   ]
  },
  {
   "cell_type": "code",
   "execution_count": 2,
   "id": "9ea6322e",
   "metadata": {},
   "outputs": [
    {
     "data": {
      "text/plain": [
       "((1000, 784), (1000, 784))"
      ]
     },
     "execution_count": 2,
     "metadata": {},
     "output_type": "execute_result"
    }
   ],
   "source": [
    "train_images = []\n",
    "train_labels = []\n",
    "for _, image, label in train_dataset:\n",
    "    train_images.append(image.detach().numpy())\n",
    "    train_labels.append(label.item())\n",
    "\n",
    "test_images = []\n",
    "test_labels = []\n",
    "for _, image, label in test_dataset:\n",
    "    test_images.append(image.detach().numpy())\n",
    "    test_labels.append(label.item())\n",
    "train_images = np.asarray(train_images)\n",
    "train_labels = np.asarray(train_labels)\n",
    "test_labels = np.asarray(test_labels)\n",
    "test_images = np.asarray(test_images)\n",
    "train_images.shape, test_images.shape"
   ]
  },
  {
   "cell_type": "code",
   "execution_count": 3,
   "id": "267cf8d9",
   "metadata": {},
   "outputs": [
    {
     "data": {
      "text/plain": [
       "SVC(kernel='linear')"
      ]
     },
     "execution_count": 3,
     "metadata": {},
     "output_type": "execute_result"
    }
   ],
   "source": [
    "model_linear = svm.SVC(kernel='linear')\n",
    "model_linear.fit(train_images, train_labels)"
   ]
  },
  {
   "cell_type": "code",
   "execution_count": 4,
   "id": "5d4ab4a7",
   "metadata": {},
   "outputs": [
    {
     "data": {
      "text/plain": [
       "0.876"
      ]
     },
     "execution_count": 4,
     "metadata": {},
     "output_type": "execute_result"
    }
   ],
   "source": [
    "y_pred = model_linear.predict(test_images)\n",
    "np.sum(y_pred == test_labels) / len(test_labels)"
   ]
  },
  {
   "cell_type": "code",
   "execution_count": 5,
   "id": "321ce69c",
   "metadata": {},
   "outputs": [],
   "source": [
    "from torch.utils.data import DataLoader\n",
    "test_dataloader = DataLoader(test_dataset, batch_size=25, shuffle=False)"
   ]
  },
  {
   "cell_type": "code",
   "execution_count": 6,
   "id": "10de04df",
   "metadata": {},
   "outputs": [
    {
     "ename": "NameError",
     "evalue": "name 'correct' is not defined",
     "output_type": "error",
     "traceback": [
      "\u001b[1;31m---------------------------------------------------------------------------\u001b[0m",
      "\u001b[1;31mNameError\u001b[0m                                 Traceback (most recent call last)",
      "\u001b[1;32m~\\AppData\\Local\\Temp\\ipykernel_25384\\2635992851.py\u001b[0m in \u001b[0;36m<module>\u001b[1;34m\u001b[0m\n\u001b[0;32m     23\u001b[0m         \u001b[0mconfusion_matrix\u001b[0m\u001b[1;33m[\u001b[0m\u001b[1;36m1\u001b[0m\u001b[1;33m,\u001b[0m \u001b[1;36m1\u001b[0m\u001b[1;33m]\u001b[0m \u001b[1;33m+=\u001b[0m \u001b[0mnp\u001b[0m\u001b[1;33m.\u001b[0m\u001b[0msum\u001b[0m\u001b[1;33m(\u001b[0m\u001b[0mprediction_denoised\u001b[0m\u001b[1;33m[\u001b[0m\u001b[1;33m~\u001b[0m\u001b[0mcorrect_base\u001b[0m\u001b[1;33m]\u001b[0m \u001b[1;33m!=\u001b[0m \u001b[0mlabel\u001b[0m\u001b[1;33m[\u001b[0m\u001b[1;33m~\u001b[0m\u001b[0mcorrect_base\u001b[0m\u001b[1;33m]\u001b[0m\u001b[1;33m)\u001b[0m\u001b[1;33m\u001b[0m\u001b[1;33m\u001b[0m\u001b[0m\n\u001b[0;32m     24\u001b[0m \u001b[1;33m\u001b[0m\u001b[0m\n\u001b[1;32m---> 25\u001b[1;33m         \u001b[0mcorrect\u001b[0m \u001b[1;33m+=\u001b[0m \u001b[0mnp\u001b[0m\u001b[1;33m.\u001b[0m\u001b[0msum\u001b[0m\u001b[1;33m(\u001b[0m\u001b[0mprediction\u001b[0m \u001b[1;33m==\u001b[0m \u001b[0mlabel\u001b[0m\u001b[1;33m)\u001b[0m\u001b[1;33m\u001b[0m\u001b[1;33m\u001b[0m\u001b[0m\n\u001b[0m\u001b[0;32m     26\u001b[0m \u001b[0mprint\u001b[0m\u001b[1;33m(\u001b[0m\u001b[0mconfusion_matrix\u001b[0m \u001b[1;33m/\u001b[0m \u001b[0mlen\u001b[0m\u001b[1;33m(\u001b[0m\u001b[0mtest_dataset\u001b[0m\u001b[1;33m)\u001b[0m\u001b[1;33m)\u001b[0m\u001b[1;33m\u001b[0m\u001b[1;33m\u001b[0m\u001b[0m\n",
      "\u001b[1;31mNameError\u001b[0m: name 'correct' is not defined"
     ]
    }
   ],
   "source": [
    "import torch\n",
    "from torch.autograd import Variable\n",
    "device = torch.device('cuda')\n",
    "confusion_matrix = np.zeros((2, 2))\n",
    "with torch.no_grad():\n",
    "    for noisy_image, base_image, label in test_dataloader:\n",
    "        noisy_image = Variable(noisy_image).to(device)\n",
    "        denoised_image = model(noisy_image)\n",
    "        denoised_image = denoised_image.view(denoised_image.shape[0], -1)\n",
    "        \n",
    "        base_image = base_image.view(base_image.shape[0], -1)\n",
    "        base_image = base_image.detach().cpu().numpy()\n",
    "        \n",
    "        prediction_denoised = model_linear.predict(denoised_image.detach().cpu().numpy())\n",
    "        prediction_baseImage = model_linear.predict(base_image)\n",
    "        label = label.detach().cpu().numpy()\n",
    "        \n",
    "        correct_base = prediction_baseImage == label\n",
    "        \n",
    "        confusion_matrix[0, 0] += np.sum(prediction_denoised[correct_base] == label[correct_base])\n",
    "        confusion_matrix[0, 1] += np.sum(prediction_denoised[correct_base] != label[correct_base])\n",
    "        confusion_matrix[1, 0] += np.sum(prediction_denoised[~correct_base] == label[~correct_base])\n",
    "        confusion_matrix[1, 1] += np.sum(prediction_denoised[~correct_base] != label[~correct_base])\n",
    "        \n",
    "        correct += np.sum(prediction == label)\n",
    "print(confusion_matrix / len(test_dataset))"
   ]
  },
  {
   "cell_type": "code",
   "execution_count": null,
   "id": "64e9d3e6",
   "metadata": {},
   "outputs": [],
   "source": [
    "np.sum(confusion_matrix)"
   ]
  },
  {
   "cell_type": "code",
   "execution_count": null,
   "id": "5041f700",
   "metadata": {},
   "outputs": [],
   "source": [
    "import seaborn as sns"
   ]
  },
  {
   "cell_type": "code",
   "execution_count": null,
   "id": "9ae9e4c5",
   "metadata": {},
   "outputs": [],
   "source": [
    "ax = sns.heatmap(confusion_matrix / 1000, annot=True, fmt='.2%', xticklabels=[\"Correct\", \"Incorrect\"],\n",
    "            yticklabels=['Correct', \"Incorrect\"])\n",
    "ax.set(xlabel=\"Denoised Prediction\", ylabel=\"BaseImage Prediction\")"
   ]
  },
  {
   "cell_type": "code",
   "execution_count": null,
   "id": "2b79c08b",
   "metadata": {},
   "outputs": [],
   "source": []
  }
 ],
 "metadata": {
  "kernelspec": {
   "display_name": "Python 3 (ipykernel)",
   "language": "python",
   "name": "python3"
  },
  "language_info": {
   "codemirror_mode": {
    "name": "ipython",
    "version": 3
   },
   "file_extension": ".py",
   "mimetype": "text/x-python",
   "name": "python",
   "nbconvert_exporter": "python",
   "pygments_lexer": "ipython3",
   "version": "3.7.16"
  }
 },
 "nbformat": 4,
 "nbformat_minor": 5
}
