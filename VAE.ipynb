{
 "cells": [
  {
   "cell_type": "code",
   "execution_count": 1,
   "id": "efb4d252",
   "metadata": {},
   "outputs": [],
   "source": [
    "from ConvexNN import ConvexVAE\n",
    "from ConvexNN.models import ConvexReluMLP, NonConvexReLU\n",
    "from ConvexNN.utils import sample_gate_vectors"
   ]
  },
  {
   "cell_type": "code",
   "execution_count": 2,
   "id": "116add07",
   "metadata": {},
   "outputs": [],
   "source": [
    "import torch\n",
    "import torch.nn as nn\n",
    "\n",
    "import numpy as np\n",
    "\n",
    "from tqdm import tqdm\n",
    "from torchvision.utils import save_image, make_grid\n",
    "from torchinfo import summary"
   ]
  },
  {
   "cell_type": "code",
   "execution_count": 3,
   "id": "ff918786",
   "metadata": {},
   "outputs": [],
   "source": [
    "dataset_path = '~/datasets'\n",
    "\n",
    "cuda = True\n",
    "DEVICE = torch.device(\"cuda\" if cuda else \"cpu\")\n",
    "\n",
    "\n",
    "batch_size = 100\n",
    "\n",
    "x_dim  = 784\n",
    "hidden_dim = 1024\n",
    "latent_dim = 200\n",
    "\n",
    "lr = 1e-3\n",
    "\n",
    "epochs = 30"
   ]
  },
  {
   "cell_type": "code",
   "execution_count": 4,
   "id": "2cd09cc9",
   "metadata": {},
   "outputs": [],
   "source": [
    "from torchvision.datasets import MNIST\n",
    "import torchvision.transforms as transforms\n",
    "from torch.utils.data import DataLoader\n",
    "\n",
    "\n",
    "mnist_transform = transforms.Compose([\n",
    "        transforms.ToTensor(),\n",
    "])\n",
    "\n",
    "kwargs = {'num_workers': 1, 'pin_memory': True} \n",
    "\n",
    "train_dataset = MNIST(dataset_path, transform=mnist_transform, train=True, download=True)\n",
    "test_dataset  = MNIST(dataset_path, transform=mnist_transform, train=False, download=True)\n",
    "\n",
    "train_loader = DataLoader(dataset=train_dataset, batch_size=batch_size, shuffle=True, **kwargs)\n",
    "test_loader  = DataLoader(dataset=test_dataset,  batch_size=batch_size, shuffle=False, **kwargs)"
   ]
  },
  {
   "cell_type": "code",
   "execution_count": 5,
   "id": "8aebe14a",
   "metadata": {},
   "outputs": [],
   "source": [
    "encoder = ConvexVAE.Encoder(input_dim=x_dim, hidden_dim=hidden_dim, latent_dim=latent_dim, num_classes=10)\n",
    "# decoder = ConvexVAE.Decoder(latent_dim=latent_dim, hidden_dim = hidden_dim, output_dim = x_dim, num_classes=10)\n",
    "# decoder = NonConvexReLU(d=latent_dim, p=hidden_dim, c=x_dim, num_classes=0)\n",
    "\n",
    "decoder = ConvexReluMLP(d=latent_dim, num_neurons=hidden_dim, output_dims=784, num_classes=10)\n",
    "\n",
    "model = ConvexVAE.Model(Encoder=encoder, Decoder=decoder).to(DEVICE)\n",
    "# summary(decoder, input_size=(batch_size, 110))"
   ]
  },
  {
   "cell_type": "code",
   "execution_count": 6,
   "id": "92ef04f6",
   "metadata": {},
   "outputs": [],
   "source": [
    "from torch.optim import Adam, SGD\n",
    "\n",
    "BCE_loss = nn.MSELoss()\n",
    "\n",
    "def loss_function(x, x_hat, mean, log_var):\n",
    "    reproduction_loss = BCE_loss(x_hat, x)\n",
    "    KLD      = - 0.5 * torch.sum(1+ log_var - mean.pow(2) - log_var.exp())\n",
    "\n",
    "    return reproduction_loss + KLD\n",
    "\n",
    "\n",
    "optimizer = SGD(model.parameters(), lr=lr)"
   ]
  },
  {
   "cell_type": "code",
   "execution_count": 7,
   "id": "b27440e6",
   "metadata": {},
   "outputs": [
    {
     "name": "stdout",
     "output_type": "stream",
     "text": [
      "Start training VAE...\n",
      "\tEpoch 1 complete! \tAverage Loss:  0.010028541070193003\n",
      "\tEpoch 2 complete! \tAverage Loss:  0.0027519782907477206\n",
      "\tEpoch 3 complete! \tAverage Loss:  0.0020791733645537064\n",
      "\tEpoch 4 complete! \tAverage Loss:  0.0017720362459478871\n",
      "\tEpoch 5 complete! \tAverage Loss:  0.0015834667982661068\n",
      "\tEpoch 6 complete! \tAverage Loss:  0.001448211897295186\n",
      "\tEpoch 7 complete! \tAverage Loss:  0.0013482058721163833\n",
      "\tEpoch 8 complete! \tAverage Loss:  0.0012689899099689096\n",
      "\tEpoch 9 complete! \tAverage Loss:  0.0012042686040940787\n",
      "\tEpoch 10 complete! \tAverage Loss:  0.0011505609867668311\n",
      "\tEpoch 11 complete! \tAverage Loss:  0.0011048103963492908\n",
      "\tEpoch 12 complete! \tAverage Loss:  0.0010657848083166924\n",
      "\tEpoch 13 complete! \tAverage Loss:  0.0010318861027343047\n",
      "\tEpoch 14 complete! \tAverage Loss:  0.001002266496196016\n",
      "\tEpoch 15 complete! \tAverage Loss:  0.0009763657857659265\n",
      "\tEpoch 16 complete! \tAverage Loss:  0.0009530813341496982\n",
      "\tEpoch 17 complete! \tAverage Loss:  0.0009325580235464943\n",
      "\tEpoch 18 complete! \tAverage Loss:  0.0009139193721327041\n",
      "\tEpoch 19 complete! \tAverage Loss:  0.0008972393032256669\n",
      "\tEpoch 20 complete! \tAverage Loss:  0.0008821220254410487\n",
      "\tEpoch 21 complete! \tAverage Loss:  0.0008683245477324137\n",
      "\tEpoch 22 complete! \tAverage Loss:  0.0008557031235233173\n",
      "\tEpoch 23 complete! \tAverage Loss:  0.0008441205396128816\n",
      "\tEpoch 24 complete! \tAverage Loss:  0.0008335137081166142\n",
      "\tEpoch 25 complete! \tAverage Loss:  0.0008235480878906377\n",
      "\tEpoch 26 complete! \tAverage Loss:  0.0008142980567501463\n",
      "\tEpoch 27 complete! \tAverage Loss:  0.0008059104181241511\n",
      "\tEpoch 28 complete! \tAverage Loss:  0.0007980115943042583\n",
      "\tEpoch 29 complete! \tAverage Loss:  0.0007905517290898277\n",
      "\tEpoch 30 complete! \tAverage Loss:  0.0007836437133297897\n",
      "Finish!!\n"
     ]
    }
   ],
   "source": [
    "print(\"Start training VAE...\")\n",
    "model.train()\n",
    "\n",
    "for epoch in range(epochs):\n",
    "    overall_loss = 0\n",
    "    for batch_idx, (x, y) in enumerate(train_loader):\n",
    "        x = x.view(batch_size, x_dim)\n",
    "        x = x.to(DEVICE)\n",
    "        \n",
    "        y = y.to(DEVICE)\n",
    "\n",
    "        optimizer.zero_grad()\n",
    "\n",
    "        x_hat, mean, log_var = model(x, y)\n",
    "        loss = loss_function(x, x_hat, mean, log_var)\n",
    "        \n",
    "        overall_loss += loss.item()\n",
    "        \n",
    "        loss.backward()\n",
    "        optimizer.step()\n",
    "        \n",
    "    print(\"\\tEpoch\", epoch + 1, \"complete!\", \"\\tAverage Loss: \", overall_loss / (batch_idx*batch_size))\n",
    "    \n",
    "print(\"Finish!!\")"
   ]
  },
  {
   "cell_type": "code",
   "execution_count": 8,
   "id": "731c961a",
   "metadata": {},
   "outputs": [],
   "source": [
    "import matplotlib.pyplot as plt"
   ]
  },
  {
   "cell_type": "code",
   "execution_count": 9,
   "id": "e97fdadd",
   "metadata": {},
   "outputs": [
    {
     "name": "stderr",
     "output_type": "stream",
     "text": [
      "  0%|                                                                                                                                                                                                                                                                                                                                                                                                        | 0/100 [00:01<?, ?it/s]\n"
     ]
    }
   ],
   "source": [
    "model.eval()\n",
    "\n",
    "with torch.no_grad():\n",
    "    for batch_idx, (x, y) in enumerate(tqdm(test_loader)):\n",
    "        x = x.view(batch_size, x_dim)\n",
    "        x = x.to(DEVICE)\n",
    "        \n",
    "        y = y.to(DEVICE)\n",
    "        \n",
    "        x_hat, _, _ = model(x, y)\n",
    "\n",
    "\n",
    "        break"
   ]
  },
  {
   "cell_type": "code",
   "execution_count": 10,
   "id": "35ddc3d1",
   "metadata": {},
   "outputs": [],
   "source": [
    "def show_image(x, idx):\n",
    "    x = x.view(x.shape[0], 28, 28)\n",
    "\n",
    "    fig = plt.figure()\n",
    "    plt.imshow(x[idx].cpu().numpy())"
   ]
  },
  {
   "cell_type": "code",
   "execution_count": 11,
   "id": "1a1614f0",
   "metadata": {},
   "outputs": [
    {
     "data": {
      "image/png": "[encoded data removed]",
      "text/plain": [
       "<Figure size 640x480 with 1 Axes>"
      ]
     },
     "metadata": {},
     "output_type": "display_data"
    }
   ],
   "source": [
    "show_image(x, idx=0)"
   ]
  },
  {
   "cell_type": "code",
   "execution_count": 15,
   "id": "fdd16c1e",
   "metadata": {},
   "outputs": [
    {
     "data": {
      "image/png": "[encoded data removed]",
      "text/plain": [
       "<Figure size 640x480 with 1 Axes>"
      ]
     },
     "metadata": {},
     "output_type": "display_data"
    }
   ],
   "source": [
    "show_image(x_hat, idx=0)"
   ]
  },
  {
   "cell_type": "code",
   "execution_count": 13,
   "id": "73e9fa43",
   "metadata": {},
   "outputs": [],
   "source": [
    "with torch.no_grad():\n",
    "    noise = torch.randn(10, latent_dim).to(DEVICE)\n",
    "    label = torch.tensor([0, 1, 2, 3, 4, 5, 6, 7, 8, 9]).to(DEVICE)\n",
    "    generated_images = decoder(noise, label=label)"
   ]
  },
  {
   "cell_type": "code",
   "execution_count": 18,
   "id": "768d6b6c",
   "metadata": {},
   "outputs": [
    {
     "data": {
      "image/png": "[encoded data removed]",
      "text/plain": [
       "<Figure size 640x480 with 1 Axes>"
      ]
     },
     "metadata": {},
     "output_type": "display_data"
    }
   ],
   "source": [
    "show_image(generated_images, idx=5)"
   ]
  },
  {
   "cell_type": "code",
   "execution_count": null,
   "id": "01e33dee",
   "metadata": {},
   "outputs": [],
   "source": [
    "torch.save(encoder.state_dict(), \"encoder.pt\")"
   ]
  }
 ],
 "metadata": {
  "kernelspec": {
   "display_name": "Python 3 (ipykernel)",
   "language": "python",
   "name": "python3"
  },
  "language_info": {
   "codemirror_mode": {
    "name": "ipython",
    "version": 3
   },
   "file_extension": ".py",
   "mimetype": "text/x-python",
   "name": "python",
   "nbconvert_exporter": "python",
   "pygments_lexer": "ipython3",
   "version": "3.7.16"
  }
 },
 "nbformat": 4,
 "nbformat_minor": 5
}
