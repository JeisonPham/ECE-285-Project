{
  "nbformat": 4,
  "nbformat_minor": 0,
  "metadata": {
    "colab": {
      "provenance": [],
      "gpuType": "T4"
    },
    "kernelspec": {
      "name": "python3",
      "display_name": "Python 3"
    },
    "language_info": {
      "name": "python"
    },
    "accelerator": "GPU"
  },
  "cells": [
    {
      "cell_type": "code",
      "execution_count": null,
      "metadata": {
        "id": "TpgyNaH6Xyo_"
      },
      "outputs": [],
      "source": [
        "# Project Imports\n",
        "!cp -r '/content/drive/Shareddrives/ECE 285/ConvexNN' .\n",
        "from ConvexNN import ConvexVAE\n",
        "from ConvexNN.models import ConvexReluMLP, NonConvexReLU\n",
        "from ConvexNN.utils import sample_gate_vectors"
      ]
    },
    {
      "cell_type": "code",
      "source": [
        "# General Imports\n",
        "import torch\n",
        "import torch.nn as nn\n",
        "\n",
        "import numpy as np\n",
        "\n",
        "from tqdm import tqdm\n",
        "from torchvision.utils import save_image, make_grid\n",
        "#from torchinfo import summary\n"
      ],
      "metadata": {
        "id": "aRvQC_3vYOJ1"
      },
      "execution_count": null,
      "outputs": []
    },
    {
      "cell_type": "code",
      "source": [
        "encoder_path = '/content/drive/Shareddrives/ECE 285/encoder.pt'\n",
        "decoder_path = '/content/drive/Shareddrives/ECE 285/convex_decoder.pt'\n",
        "DEVICE = \"cuda\" if torch.cuda.is_available() else \"cpu\"\n",
        "DEVICE"
      ],
      "metadata": {
        "colab": {
          "base_uri": "https://localhost:8080/",
          "height": 35
        },
        "id": "B6oIT7vUbGJh",
        "outputId": "e906c982-86b1-4426-b6ea-fcb79e711632"
      },
      "execution_count": null,
      "outputs": [
        {
          "output_type": "execute_result",
          "data": {
            "text/plain": [
              "'cuda'"
            ],
            "application/vnd.google.colaboratory.intrinsic+json": {
              "type": "string"
            }
          },
          "metadata": {},
          "execution_count": 3
        }
      ]
    },
    {
      "cell_type": "code",
      "source": [
        "# Model Hyperparameters\n",
        "x_dim  = 784\n",
        "hidden_dim = 1024\n",
        "latent_dim = 200\n",
        "\n",
        "# Loading the class objects\n",
        "encoder = ConvexVAE.Encoder(input_dim=x_dim, hidden_dim=hidden_dim, latent_dim=latent_dim, num_classes=10)\n",
        "encoder.load_state_dict(torch.load(encoder_path))\n",
        "\n",
        "decoder = ConvexReluMLP(d=latent_dim, num_neurons=hidden_dim, output_dims=784, num_classes=10)\n",
        "decoder.load_state_dict(torch.load(decoder_path))\n",
        "\n",
        "model = ConvexVAE.Model(Encoder=encoder, Decoder=decoder).to(DEVICE)"
      ],
      "metadata": {
        "id": "cUISBxdNboYw"
      },
      "execution_count": null,
      "outputs": []
    },
    {
      "cell_type": "code",
      "source": [
        "# loading in the data\n",
        "from torchvision.datasets import MNIST\n",
        "import torchvision.transforms as transforms\n",
        "from torch.utils.data import DataLoader\n",
        "\n",
        "batch_size = 1\n",
        "\n",
        "mnist_transform = transforms.Compose([\n",
        "        transforms.ToTensor(),\n",
        "])\n",
        "\n",
        "kwargs = {'num_workers': 1, 'pin_memory': True}\n",
        "\n",
        "train_dataset = MNIST('.', transform=mnist_transform, train=True, download=True)\n",
        "test_dataset  = MNIST('.', transform=mnist_transform, train=False, download=True)\n",
        "\n",
        "train_loader = DataLoader(dataset=train_dataset, batch_size=batch_size, shuffle=True, **kwargs)\n",
        "test_loader  = DataLoader(dataset=test_dataset,  batch_size=batch_size, shuffle=False, **kwargs)"
      ],
      "metadata": {
        "colab": {
          "base_uri": "https://localhost:8080/"
        },
        "id": "43WSjQpXczVT",
        "outputId": "e537456c-6fde-4e84-d566-32c8080b071d"
      },
      "execution_count": null,
      "outputs": [
        {
          "output_type": "stream",
          "name": "stdout",
          "text": [
            "Downloading http://yann.lecun.com/exdb/mnist/train-images-idx3-ubyte.gz\n",
            "Downloading http://yann.lecun.com/exdb/mnist/train-images-idx3-ubyte.gz to ./MNIST/raw/train-images-idx3-ubyte.gz\n"
          ]
        },
        {
          "output_type": "stream",
          "name": "stderr",
          "text": [
            "100%|██████████| 9912422/9912422 [00:00<00:00, 246968773.73it/s]"
          ]
        },
        {
          "output_type": "stream",
          "name": "stdout",
          "text": [
            "Extracting ./MNIST/raw/train-images-idx3-ubyte.gz to ./MNIST/raw\n"
          ]
        },
        {
          "output_type": "stream",
          "name": "stderr",
          "text": [
            "\n"
          ]
        },
        {
          "output_type": "stream",
          "name": "stdout",
          "text": [
            "\n",
            "Downloading http://yann.lecun.com/exdb/mnist/train-labels-idx1-ubyte.gz\n",
            "Downloading http://yann.lecun.com/exdb/mnist/train-labels-idx1-ubyte.gz to ./MNIST/raw/train-labels-idx1-ubyte.gz\n"
          ]
        },
        {
          "output_type": "stream",
          "name": "stderr",
          "text": [
            "100%|██████████| 28881/28881 [00:00<00:00, 39139157.94it/s]\n"
          ]
        },
        {
          "output_type": "stream",
          "name": "stdout",
          "text": [
            "Extracting ./MNIST/raw/train-labels-idx1-ubyte.gz to ./MNIST/raw\n",
            "\n",
            "Downloading http://yann.lecun.com/exdb/mnist/t10k-images-idx3-ubyte.gz\n",
            "Downloading http://yann.lecun.com/exdb/mnist/t10k-images-idx3-ubyte.gz to ./MNIST/raw/t10k-images-idx3-ubyte.gz\n"
          ]
        },
        {
          "output_type": "stream",
          "name": "stderr",
          "text": [
            "100%|██████████| 1648877/1648877 [00:00<00:00, 172217027.66it/s]"
          ]
        },
        {
          "output_type": "stream",
          "name": "stdout",
          "text": [
            "Extracting ./MNIST/raw/t10k-images-idx3-ubyte.gz to ./MNIST/raw\n",
            "\n",
            "Downloading http://yann.lecun.com/exdb/mnist/t10k-labels-idx1-ubyte.gz\n"
          ]
        },
        {
          "output_type": "stream",
          "name": "stderr",
          "text": [
            "\n"
          ]
        },
        {
          "output_type": "stream",
          "name": "stdout",
          "text": [
            "Downloading http://yann.lecun.com/exdb/mnist/t10k-labels-idx1-ubyte.gz to ./MNIST/raw/t10k-labels-idx1-ubyte.gz\n"
          ]
        },
        {
          "output_type": "stream",
          "name": "stderr",
          "text": [
            "100%|██████████| 4542/4542 [00:00<00:00, 7135029.50it/s]"
          ]
        },
        {
          "output_type": "stream",
          "name": "stdout",
          "text": [
            "Extracting ./MNIST/raw/t10k-labels-idx1-ubyte.gz to ./MNIST/raw\n",
            "\n"
          ]
        },
        {
          "output_type": "stream",
          "name": "stderr",
          "text": [
            "\n"
          ]
        }
      ]
    },
    {
      "cell_type": "code",
      "source": [
        "!pip install torchmetrics\n",
        "!pip install torch-fidelity\n",
        "!pip install torchmetrics[image]\n",
        "from torchmetrics.image.inception import InceptionScore"
      ],
      "metadata": {
        "colab": {
          "base_uri": "https://localhost:8080/"
        },
        "id": "ezEJ_x35oSUJ",
        "outputId": "f95ee2c7-fa8d-4ac2-a450-23beaf6b78ac"
      },
      "execution_count": null,
      "outputs": [
        {
          "output_type": "stream",
          "name": "stdout",
          "text": [
            "Looking in indexes: https://pypi.org/simple, https://us-python.pkg.dev/colab-wheels/public/simple/\n",
            "Collecting torchmetrics\n",
            "  Downloading torchmetrics-0.11.4-py3-none-any.whl (519 kB)\n",
            "\u001b[2K     \u001b[90m━━━━━━━━━━━━━━━━━━━━━━━━━━━━━━━━━━━━━━\u001b[0m \u001b[32m519.2/519.2 kB\u001b[0m \u001b[31m34.2 MB/s\u001b[0m eta \u001b[36m0:00:00\u001b[0m\n",
            "\u001b[?25hRequirement already satisfied: numpy>=1.17.2 in /usr/local/lib/python3.10/dist-packages (from torchmetrics) (1.22.4)\n",
            "Requirement already satisfied: torch>=1.8.1 in /usr/local/lib/python3.10/dist-packages (from torchmetrics) (2.0.1+cu118)\n",
            "Requirement already satisfied: packaging in /usr/local/lib/python3.10/dist-packages (from torchmetrics) (23.1)\n",
            "Requirement already satisfied: filelock in /usr/local/lib/python3.10/dist-packages (from torch>=1.8.1->torchmetrics) (3.12.0)\n",
            "Requirement already satisfied: typing-extensions in /usr/local/lib/python3.10/dist-packages (from torch>=1.8.1->torchmetrics) (4.5.0)\n",
            "Requirement already satisfied: sympy in /usr/local/lib/python3.10/dist-packages (from torch>=1.8.1->torchmetrics) (1.11.1)\n",
            "Requirement already satisfied: networkx in /usr/local/lib/python3.10/dist-packages (from torch>=1.8.1->torchmetrics) (3.1)\n",
            "Requirement already satisfied: jinja2 in /usr/local/lib/python3.10/dist-packages (from torch>=1.8.1->torchmetrics) (3.1.2)\n",
            "Requirement already satisfied: triton==2.0.0 in /usr/local/lib/python3.10/dist-packages (from torch>=1.8.1->torchmetrics) (2.0.0)\n",
            "Requirement already satisfied: cmake in /usr/local/lib/python3.10/dist-packages (from triton==2.0.0->torch>=1.8.1->torchmetrics) (3.25.2)\n",
            "Requirement already satisfied: lit in /usr/local/lib/python3.10/dist-packages (from triton==2.0.0->torch>=1.8.1->torchmetrics) (16.0.5)\n",
            "Requirement already satisfied: MarkupSafe>=2.0 in /usr/local/lib/python3.10/dist-packages (from jinja2->torch>=1.8.1->torchmetrics) (2.1.2)\n",
            "Requirement already satisfied: mpmath>=0.19 in /usr/local/lib/python3.10/dist-packages (from sympy->torch>=1.8.1->torchmetrics) (1.3.0)\n",
            "Installing collected packages: torchmetrics\n",
            "Successfully installed torchmetrics-0.11.4\n",
            "Looking in indexes: https://pypi.org/simple, https://us-python.pkg.dev/colab-wheels/public/simple/\n",
            "Collecting torch-fidelity\n",
            "  Downloading torch_fidelity-0.3.0-py3-none-any.whl (37 kB)\n",
            "Requirement already satisfied: numpy in /usr/local/lib/python3.10/dist-packages (from torch-fidelity) (1.22.4)\n",
            "Requirement already satisfied: Pillow in /usr/local/lib/python3.10/dist-packages (from torch-fidelity) (8.4.0)\n",
            "Requirement already satisfied: scipy in /usr/local/lib/python3.10/dist-packages (from torch-fidelity) (1.10.1)\n",
            "Requirement already satisfied: torch in /usr/local/lib/python3.10/dist-packages (from torch-fidelity) (2.0.1+cu118)\n",
            "Requirement already satisfied: torchvision in /usr/local/lib/python3.10/dist-packages (from torch-fidelity) (0.15.2+cu118)\n",
            "Requirement already satisfied: tqdm in /usr/local/lib/python3.10/dist-packages (from torch-fidelity) (4.65.0)\n",
            "Requirement already satisfied: filelock in /usr/local/lib/python3.10/dist-packages (from torch->torch-fidelity) (3.12.0)\n",
            "Requirement already satisfied: typing-extensions in /usr/local/lib/python3.10/dist-packages (from torch->torch-fidelity) (4.5.0)\n",
            "Requirement already satisfied: sympy in /usr/local/lib/python3.10/dist-packages (from torch->torch-fidelity) (1.11.1)\n",
            "Requirement already satisfied: networkx in /usr/local/lib/python3.10/dist-packages (from torch->torch-fidelity) (3.1)\n",
            "Requirement already satisfied: jinja2 in /usr/local/lib/python3.10/dist-packages (from torch->torch-fidelity) (3.1.2)\n",
            "Requirement already satisfied: triton==2.0.0 in /usr/local/lib/python3.10/dist-packages (from torch->torch-fidelity) (2.0.0)\n",
            "Requirement already satisfied: cmake in /usr/local/lib/python3.10/dist-packages (from triton==2.0.0->torch->torch-fidelity) (3.25.2)\n",
            "Requirement already satisfied: lit in /usr/local/lib/python3.10/dist-packages (from triton==2.0.0->torch->torch-fidelity) (16.0.5)\n",
            "Requirement already satisfied: requests in /usr/local/lib/python3.10/dist-packages (from torchvision->torch-fidelity) (2.27.1)\n",
            "Requirement already satisfied: MarkupSafe>=2.0 in /usr/local/lib/python3.10/dist-packages (from jinja2->torch->torch-fidelity) (2.1.2)\n",
            "Requirement already satisfied: urllib3<1.27,>=1.21.1 in /usr/local/lib/python3.10/dist-packages (from requests->torchvision->torch-fidelity) (1.26.15)\n",
            "Requirement already satisfied: certifi>=2017.4.17 in /usr/local/lib/python3.10/dist-packages (from requests->torchvision->torch-fidelity) (2022.12.7)\n",
            "Requirement already satisfied: charset-normalizer~=2.0.0 in /usr/local/lib/python3.10/dist-packages (from requests->torchvision->torch-fidelity) (2.0.12)\n",
            "Requirement already satisfied: idna<4,>=2.5 in /usr/local/lib/python3.10/dist-packages (from requests->torchvision->torch-fidelity) (3.4)\n",
            "Requirement already satisfied: mpmath>=0.19 in /usr/local/lib/python3.10/dist-packages (from sympy->torch->torch-fidelity) (1.3.0)\n",
            "Installing collected packages: torch-fidelity\n",
            "Successfully installed torch-fidelity-0.3.0\n",
            "Looking in indexes: https://pypi.org/simple, https://us-python.pkg.dev/colab-wheels/public/simple/\n",
            "Requirement already satisfied: torchmetrics[image] in /usr/local/lib/python3.10/dist-packages (0.11.4)\n",
            "Requirement already satisfied: numpy>=1.17.2 in /usr/local/lib/python3.10/dist-packages (from torchmetrics[image]) (1.22.4)\n",
            "Requirement already satisfied: torch>=1.8.1 in /usr/local/lib/python3.10/dist-packages (from torchmetrics[image]) (2.0.1+cu118)\n",
            "Requirement already satisfied: packaging in /usr/local/lib/python3.10/dist-packages (from torchmetrics[image]) (23.1)\n",
            "Collecting lpips<=0.1.4 (from torchmetrics[image])\n",
            "  Downloading lpips-0.1.4-py3-none-any.whl (53 kB)\n",
            "\u001b[2K     \u001b[90m━━━━━━━━━━━━━━━━━━━━━━━━━━━━━━━━━━━━━━━━\u001b[0m \u001b[32m53.8/53.8 kB\u001b[0m \u001b[31m7.1 MB/s\u001b[0m eta \u001b[36m0:00:00\u001b[0m\n",
            "\u001b[?25hRequirement already satisfied: torch-fidelity<=0.3.0 in /usr/local/lib/python3.10/dist-packages (from torchmetrics[image]) (0.3.0)\n",
            "Requirement already satisfied: torchvision>=0.8 in /usr/local/lib/python3.10/dist-packages (from torchmetrics[image]) (0.15.2+cu118)\n",
            "Requirement already satisfied: scipy>1.0.0 in /usr/local/lib/python3.10/dist-packages (from torchmetrics[image]) (1.10.1)\n",
            "Requirement already satisfied: tqdm>=4.28.1 in /usr/local/lib/python3.10/dist-packages (from lpips<=0.1.4->torchmetrics[image]) (4.65.0)\n",
            "Requirement already satisfied: filelock in /usr/local/lib/python3.10/dist-packages (from torch>=1.8.1->torchmetrics[image]) (3.12.0)\n",
            "Requirement already satisfied: typing-extensions in /usr/local/lib/python3.10/dist-packages (from torch>=1.8.1->torchmetrics[image]) (4.5.0)\n",
            "Requirement already satisfied: sympy in /usr/local/lib/python3.10/dist-packages (from torch>=1.8.1->torchmetrics[image]) (1.11.1)\n",
            "Requirement already satisfied: networkx in /usr/local/lib/python3.10/dist-packages (from torch>=1.8.1->torchmetrics[image]) (3.1)\n",
            "Requirement already satisfied: jinja2 in /usr/local/lib/python3.10/dist-packages (from torch>=1.8.1->torchmetrics[image]) (3.1.2)\n",
            "Requirement already satisfied: triton==2.0.0 in /usr/local/lib/python3.10/dist-packages (from torch>=1.8.1->torchmetrics[image]) (2.0.0)\n",
            "Requirement already satisfied: cmake in /usr/local/lib/python3.10/dist-packages (from triton==2.0.0->torch>=1.8.1->torchmetrics[image]) (3.25.2)\n",
            "Requirement already satisfied: lit in /usr/local/lib/python3.10/dist-packages (from triton==2.0.0->torch>=1.8.1->torchmetrics[image]) (16.0.5)\n",
            "Requirement already satisfied: Pillow in /usr/local/lib/python3.10/dist-packages (from torch-fidelity<=0.3.0->torchmetrics[image]) (8.4.0)\n",
            "Requirement already satisfied: requests in /usr/local/lib/python3.10/dist-packages (from torchvision>=0.8->torchmetrics[image]) (2.27.1)\n",
            "Requirement already satisfied: MarkupSafe>=2.0 in /usr/local/lib/python3.10/dist-packages (from jinja2->torch>=1.8.1->torchmetrics[image]) (2.1.2)\n",
            "Requirement already satisfied: urllib3<1.27,>=1.21.1 in /usr/local/lib/python3.10/dist-packages (from requests->torchvision>=0.8->torchmetrics[image]) (1.26.15)\n",
            "Requirement already satisfied: certifi>=2017.4.17 in /usr/local/lib/python3.10/dist-packages (from requests->torchvision>=0.8->torchmetrics[image]) (2022.12.7)\n",
            "Requirement already satisfied: charset-normalizer~=2.0.0 in /usr/local/lib/python3.10/dist-packages (from requests->torchvision>=0.8->torchmetrics[image]) (2.0.12)\n",
            "Requirement already satisfied: idna<4,>=2.5 in /usr/local/lib/python3.10/dist-packages (from requests->torchvision>=0.8->torchmetrics[image]) (3.4)\n",
            "Requirement already satisfied: mpmath>=0.19 in /usr/local/lib/python3.10/dist-packages (from sympy->torch>=1.8.1->torchmetrics[image]) (1.3.0)\n",
            "Installing collected packages: lpips\n",
            "Successfully installed lpips-0.1.4\n"
          ]
        }
      ]
    },
    {
      "cell_type": "code",
      "source": [
        "import matplotlib.pyplot as plt"
      ],
      "metadata": {
        "id": "SGTOXHS-dsEI"
      },
      "execution_count": null,
      "outputs": []
    },
    {
      "cell_type": "code",
      "source": [
        "# Generating Synthetic data for the IS Scores\n",
        "\n",
        "with torch.no_grad():\n",
        "\n",
        "  # generating standard-normal noise\n",
        "  standard_normal_noise = torch.randn(500,latent_dim).to(DEVICE)\n",
        "  #standard_normal_noise = torch.zeros(500,latent_dim).to(DEVICE)\n",
        "  print(standard_normal_noise.shape)\n",
        "  # generating labels, make sure that the conditionals are perfectly uniform\n",
        "  labels = torch.arange(0, 500) % 10\n",
        "  labels = labels.to(DEVICE)\n",
        "  print(labels.shape)\n",
        "  # generating synthetic images\n",
        "  synthetic_images = decoder.forward(standard_normal_noise,labels)\n",
        "  print(synthetic_images.shape)\n",
        "  # reshaping synthetic images into (batch_size, channel, width, height)\n",
        "  synthetic_images = torch.reshape(synthetic_images,(500,1,28,28))\n",
        "  print(synthetic_images.shape)\n",
        "  # copying channels 3x to make fake grayscale\n",
        "  synthetic_images = synthetic_images.repeat(1,3,1,1)\n",
        "  # performing bilinear interpolation on images\n",
        "  synthetic_images = torch.nn.functional.interpolate(synthetic_images,[299,299], mode='bilinear')\n",
        "  print(synthetic_images.shape)\n",
        "  # converting to uint8\n",
        "  synthetic_images = synthetic_images * 255\n",
        "  synthetic_images = synthetic_images.to(torch.uint8)\n",
        "\n",
        "synthetic_images = synthetic_images.cpu()"
      ],
      "metadata": {
        "colab": {
          "base_uri": "https://localhost:8080/"
        },
        "id": "oGTPUCJUeeCo",
        "outputId": "3972f485-dd18-40da-fadc-374ec5b0ba3f"
      },
      "execution_count": null,
      "outputs": [
        {
          "output_type": "stream",
          "name": "stdout",
          "text": [
            "torch.Size([500, 200])\n",
            "torch.Size([500])\n",
            "torch.Size([500, 784])\n",
            "torch.Size([500, 1, 28, 28])\n",
            "torch.Size([500, 3, 299, 299])\n"
          ]
        }
      ]
    },
    {
      "cell_type": "code",
      "source": [
        "\n",
        "inception = InceptionScore()\n",
        "inception.update(synthetic_images)\n",
        "IS = inception.compute()\n",
        "print(IS)"
      ],
      "metadata": {
        "colab": {
          "base_uri": "https://localhost:8080/"
        },
        "id": "8odqqHdqiFzW",
        "outputId": "2828e353-ece3-481c-8694-184b070bcc3c"
      },
      "execution_count": null,
      "outputs": [
        {
          "output_type": "stream",
          "name": "stderr",
          "text": [
            "/usr/local/lib/python3.10/dist-packages/torchmetrics/utilities/prints.py:36: UserWarning: Metric `InceptionScore` will save all extracted features in buffer. For large datasets this may lead to large memory footprint.\n",
            "  warnings.warn(*args, **kwargs)\n"
          ]
        },
        {
          "output_type": "stream",
          "name": "stdout",
          "text": [
            "(tensor(2.3890), tensor(0.1240))\n"
          ]
        }
      ]
    },
    {
      "cell_type": "code",
      "source": [
        "synthetic_data_path = '/content/drive/Shareddrives/ECE 285/Purely_Synthetic_Data/'\n",
        "real_data_path = '/content/drive/Shareddrives/ECE 285/MNIST_Interpolated/'"
      ],
      "metadata": {
        "id": "2z6NJESQqbo-"
      },
      "execution_count": null,
      "outputs": []
    },
    {
      "cell_type": "code",
      "source": [
        "# calculating FID scores\n",
        "!pip install pytorch-fid"
      ],
      "metadata": {
        "colab": {
          "base_uri": "https://localhost:8080/"
        },
        "id": "3lUhUnObySWI",
        "outputId": "768d396e-284d-4bf8-b3aa-13a3cce41bdb"
      },
      "execution_count": null,
      "outputs": [
        {
          "output_type": "stream",
          "name": "stdout",
          "text": [
            "Looking in indexes: https://pypi.org/simple, https://us-python.pkg.dev/colab-wheels/public/simple/\n",
            "Collecting pytorch-fid\n",
            "  Downloading pytorch_fid-0.3.0-py3-none-any.whl (15 kB)\n",
            "Requirement already satisfied: numpy in /usr/local/lib/python3.10/dist-packages (from pytorch-fid) (1.22.4)\n",
            "Requirement already satisfied: pillow in /usr/local/lib/python3.10/dist-packages (from pytorch-fid) (8.4.0)\n",
            "Requirement already satisfied: scipy in /usr/local/lib/python3.10/dist-packages (from pytorch-fid) (1.10.1)\n",
            "Requirement already satisfied: torch>=1.0.1 in /usr/local/lib/python3.10/dist-packages (from pytorch-fid) (2.0.1+cu118)\n",
            "Requirement already satisfied: torchvision>=0.2.2 in /usr/local/lib/python3.10/dist-packages (from pytorch-fid) (0.15.2+cu118)\n",
            "Requirement already satisfied: filelock in /usr/local/lib/python3.10/dist-packages (from torch>=1.0.1->pytorch-fid) (3.12.0)\n",
            "Requirement already satisfied: typing-extensions in /usr/local/lib/python3.10/dist-packages (from torch>=1.0.1->pytorch-fid) (4.5.0)\n",
            "Requirement already satisfied: sympy in /usr/local/lib/python3.10/dist-packages (from torch>=1.0.1->pytorch-fid) (1.11.1)\n",
            "Requirement already satisfied: networkx in /usr/local/lib/python3.10/dist-packages (from torch>=1.0.1->pytorch-fid) (3.1)\n",
            "Requirement already satisfied: jinja2 in /usr/local/lib/python3.10/dist-packages (from torch>=1.0.1->pytorch-fid) (3.1.2)\n",
            "Requirement already satisfied: triton==2.0.0 in /usr/local/lib/python3.10/dist-packages (from torch>=1.0.1->pytorch-fid) (2.0.0)\n",
            "Requirement already satisfied: cmake in /usr/local/lib/python3.10/dist-packages (from triton==2.0.0->torch>=1.0.1->pytorch-fid) (3.25.2)\n",
            "Requirement already satisfied: lit in /usr/local/lib/python3.10/dist-packages (from triton==2.0.0->torch>=1.0.1->pytorch-fid) (16.0.5)\n",
            "Requirement already satisfied: requests in /usr/local/lib/python3.10/dist-packages (from torchvision>=0.2.2->pytorch-fid) (2.27.1)\n",
            "Requirement already satisfied: MarkupSafe>=2.0 in /usr/local/lib/python3.10/dist-packages (from jinja2->torch>=1.0.1->pytorch-fid) (2.1.2)\n",
            "Requirement already satisfied: urllib3<1.27,>=1.21.1 in /usr/local/lib/python3.10/dist-packages (from requests->torchvision>=0.2.2->pytorch-fid) (1.26.15)\n",
            "Requirement already satisfied: certifi>=2017.4.17 in /usr/local/lib/python3.10/dist-packages (from requests->torchvision>=0.2.2->pytorch-fid) (2022.12.7)\n",
            "Requirement already satisfied: charset-normalizer~=2.0.0 in /usr/local/lib/python3.10/dist-packages (from requests->torchvision>=0.2.2->pytorch-fid) (2.0.12)\n",
            "Requirement already satisfied: idna<4,>=2.5 in /usr/local/lib/python3.10/dist-packages (from requests->torchvision>=0.2.2->pytorch-fid) (3.4)\n",
            "Requirement already satisfied: mpmath>=0.19 in /usr/local/lib/python3.10/dist-packages (from sympy->torch>=1.0.1->pytorch-fid) (1.3.0)\n",
            "Installing collected packages: pytorch-fid\n",
            "Successfully installed pytorch-fid-0.3.0\n"
          ]
        }
      ]
    },
    {
      "cell_type": "code",
      "source": [
        "toPIL = transforms.ToPILImage()\n",
        "for batch_idx, (x, y) in enumerate(test_loader):\n",
        "  x = x.to(DEVICE)\n",
        "  y = y.to(DEVICE)\n",
        "  # generating reconstruction\n",
        "  x_hat, _, _ = model(x,y)\n",
        "  # reshaping images\n",
        "  x = torch.reshape(x,(1,1,28,28))\n",
        "  x_hat = torch.reshape(x_hat,(1,1,28,28))\n",
        "  # repeating to mimic grayscale\n",
        "  x = x.repeat(1,3,1,1)\n",
        "  x_hat = x_hat.repeat(1,3,1,1)\n",
        "  # performing bilinear interpolation\n",
        "  x_interpolated = torch.nn.functional.interpolate(x,[299,299], mode='bilinear')\n",
        "  x_hat_interpolated = torch.nn.functional.interpolate(x_hat,[299,299], mode='bilinear')\n",
        "  # reducing the redundant batch dimension\n",
        "  x_interpolated = x_interpolated[0,:,:,:]\n",
        "  x_hat_interpolated = x_hat_interpolated[0,:,:,:]\n",
        "  # converting to 0-255\n",
        "  x_interpolated *= 255\n",
        "  x_interpolated = x_interpolated.to(torch.uint8)\n",
        "  x_hat_interpolated *= 255\n",
        "  x_hat_interpolated = x_hat_interpolated.to(torch.uint8)\n",
        "  # converting to PIL before saving\n",
        "  x_interpolated = toPIL(x_interpolated)\n",
        "  x_hat_interpolated = toPIL(x_hat_interpolated)\n",
        "  # saving\n",
        "  x_interpolated.save(real_data_path + str(batch_idx)+\".png\")\n",
        "  x_hat_interpolated.save(synthetic_data_path + str(batch_idx)+\".png\")"
      ],
      "metadata": {
        "id": "mFjcPPVUy_xo"
      },
      "execution_count": null,
      "outputs": []
    },
    {
      "cell_type": "code",
      "source": [
        "!python -m pytorch_fid '/content/drive/Shareddrives/ECE 285/MNIST_Interpolated/' '/content/drive/Shareddrives/ECE 285/Purely_Synthetic_Data/'"
      ],
      "metadata": {
        "colab": {
          "base_uri": "https://localhost:8080/"
        },
        "id": "RopiXbzk12fK",
        "outputId": "66577e73-1186-46b6-b141-92a8441322a5"
      },
      "execution_count": null,
      "outputs": [
        {
          "output_type": "stream",
          "name": "stdout",
          "text": [
            "Downloading: \"https://github.com/mseitzer/pytorch-fid/releases/download/fid_weights/pt_inception-2015-12-05-6726825d.pth\" to /root/.cache/torch/hub/checkpoints/pt_inception-2015-12-05-6726825d.pth\n",
            "100% 91.2M/91.2M [00:05<00:00, 17.9MB/s]\n",
            "100% 200/200 [01:01<00:00,  3.24it/s]\n",
            "100% 200/200 [01:00<00:00,  3.30it/s]\n",
            "FID:  236.87055297753176\n"
          ]
        }
      ]
    },
    {
      "cell_type": "code",
      "source": [
        "# Synthetic Data Visual\n",
        "\n",
        "for ndx in range(10):\n",
        "  im = synthetic_images[ndx,:,:]\n",
        "  im = im.permute(1,2,0)\n",
        "  plt.subplot(5,2,ndx+1)\n",
        "  plt.imshow(im,cmap='gray')\n",
        "  plt.axis('off')\n",
        "  plt.suptitle(\"Synthetic Images w/ Bilinear Interpolation\")"
      ],
      "metadata": {
        "colab": {
          "base_uri": "https://localhost:8080/",
          "height": 454
        },
        "id": "dUDT4jmA4ryu",
        "outputId": "15abfcab-92c5-46bd-a571-0ee7c1eacb95"
      },
      "execution_count": null,
      "outputs": [
        {
          "output_type": "display_data",
          "data": {
            "text/plain": [
              "<Figure size 640x480 with 10 Axes>"
            ],
            "image/png": "[encoded data removed]"
          },
          "metadata": {}
        }
      ]
    },
    {
      "cell_type": "code",
      "source": [
        "for batch_idx, (x, y) in enumerate(test_loader):\n",
        "  if batch_idx < 5:\n",
        "    x = x.to(DEVICE)\n",
        "    y = y.to(DEVICE)\n",
        "    # generating reconstruction\n",
        "    x_hat, _, _ = model(x,y)\n",
        "    # reshaping images\n",
        "    x = torch.reshape(x,(1,1,28,28))\n",
        "    x_hat = torch.reshape(x_hat,(1,1,28,28))\n",
        "    # repeating to mimic grayscale\n",
        "    x = x.repeat(1,3,1,1)\n",
        "    x_hat = x_hat.repeat(1,3,1,1)\n",
        "    # performing bilinear interpolation\n",
        "    x_interpolated = torch.nn.functional.interpolate(x,[299,299], mode='bilinear')\n",
        "    x_hat_interpolated = torch.nn.functional.interpolate(x_hat,[299,299], mode='bilinear')\n",
        "    # reducing the redundant batch dimension\n",
        "    x_interpolated = x_interpolated[0,:,:,:]\n",
        "    x_hat_interpolated = x_hat_interpolated[0,:,:,:]\n",
        "    # converting to 0-255\n",
        "    x_interpolated *= 255\n",
        "    x_interpolated = x_interpolated.to(torch.uint8)\n",
        "    x_hat_interpolated *= 255\n",
        "    x_hat_interpolated = x_hat_interpolated.to(torch.uint8)\n",
        "    # re-ordering\n",
        "    x_interpolated = x_interpolated.permute(1,2,0).to('cpu')\n",
        "    x_hat_interpolated = x_hat_interpolated.permute(1,2,0).to('cpu')\n",
        "    #plotting\n",
        "    plt.subplot(5,2,2*batch_idx+1)\n",
        "    plt.imshow(x_interpolated,cmap='gray')\n",
        "    plt.axis('off')\n",
        "    plt.subplot(5,2,2*batch_idx+2)\n",
        "    plt.imshow(x_hat_interpolated,cmap='gray')\n",
        "    plt.axis('off')\n",
        "    plt.suptitle(\"Real (left) vs. VAE Reconstruction (right)\\n w/ Bilinear Interpolation\")"
      ],
      "metadata": {
        "colab": {
          "base_uri": "https://localhost:8080/",
          "height": 454
        },
        "id": "PC1xsmtW-5Vi",
        "outputId": "f24ebdd5-12d0-455f-fe91-ae7b8b924506"
      },
      "execution_count": null,
      "outputs": [
        {
          "output_type": "display_data",
          "data": {
            "text/plain": [
              "<Figure size 640x480 with 10 Axes>"
            ],
            "image/png": "[encoded data removed]"
          },
          "metadata": {}
        }
      ]
    },
    {
      "cell_type": "code",
      "source": [],
      "metadata": {
        "id": "ZGyZ2ltgA9Cm"
      },
      "execution_count": null,
      "outputs": []
    }
  ]
}