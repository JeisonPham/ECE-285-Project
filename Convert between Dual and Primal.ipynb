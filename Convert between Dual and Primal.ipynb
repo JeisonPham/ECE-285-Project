{
 "cells": [
  {
   "cell_type": "code",
   "execution_count": 9,
   "id": "5281a232",
   "metadata": {},
   "outputs": [],
   "source": [
    "import numpy as np\n",
    "import cvxpy\n",
    "import lab"
   ]
  },
  {
   "cell_type": "code",
   "execution_count": 3,
   "id": "378bd66f",
   "metadata": {},
   "outputs": [
    {
     "name": "stdout",
     "output_type": "stream",
     "text": [
      "Convex program objective value (eq (8)):  0.0007190913496571007\n"
     ]
    },
    {
     "name": "stderr",
     "output_type": "stream",
     "text": [
      "/opt/anaconda3/envs/convex_nn/lib/python3.8/site-packages/cvxpy/expressions/expression.py:612: UserWarning: \n",
      "This use of ``*`` has resulted in matrix multiplication.\n",
      "Using ``*`` for matrix multiplication has been deprecated since CVXPY 1.1.\n",
      "    Use ``*`` for matrix-scalar and vector-scalar multiplication.\n",
      "    Use ``@`` for matrix-matrix and matrix-vector multiplication.\n",
      "    Use ``multiply`` for elementwise multiplication.\n",
      "This code path has been hit 1 times so far.\n",
      "\n",
      "  warnings.warn(msg, UserWarning)\n",
      "/opt/anaconda3/envs/convex_nn/lib/python3.8/site-packages/cvxpy/expressions/expression.py:612: UserWarning: \n",
      "This use of ``*`` has resulted in matrix multiplication.\n",
      "Using ``*`` for matrix multiplication has been deprecated since CVXPY 1.1.\n",
      "    Use ``*`` for matrix-scalar and vector-scalar multiplication.\n",
      "    Use ``@`` for matrix-matrix and matrix-vector multiplication.\n",
      "    Use ``multiply`` for elementwise multiplication.\n",
      "This code path has been hit 2 times so far.\n",
      "\n",
      "  warnings.warn(msg, UserWarning)\n",
      "/opt/anaconda3/envs/convex_nn/lib/python3.8/site-packages/cvxpy/expressions/expression.py:612: UserWarning: \n",
      "This use of ``*`` has resulted in matrix multiplication.\n",
      "Using ``*`` for matrix multiplication has been deprecated since CVXPY 1.1.\n",
      "    Use ``*`` for matrix-scalar and vector-scalar multiplication.\n",
      "    Use ``@`` for matrix-matrix and matrix-vector multiplication.\n",
      "    Use ``multiply`` for elementwise multiplication.\n",
      "This code path has been hit 3 times so far.\n",
      "\n",
      "  warnings.warn(msg, UserWarning)\n",
      "/opt/anaconda3/envs/convex_nn/lib/python3.8/site-packages/cvxpy/expressions/expression.py:612: UserWarning: \n",
      "This use of ``*`` has resulted in matrix multiplication.\n",
      "Using ``*`` for matrix multiplication has been deprecated since CVXPY 1.1.\n",
      "    Use ``*`` for matrix-scalar and vector-scalar multiplication.\n",
      "    Use ``@`` for matrix-matrix and matrix-vector multiplication.\n",
      "    Use ``multiply`` for elementwise multiplication.\n",
      "This code path has been hit 4 times so far.\n",
      "\n",
      "  warnings.warn(msg, UserWarning)\n"
     ]
    }
   ],
   "source": [
    "## This is a basic CVXPY based implementation on a toy dataset for the paper \n",
    "## \"Neural Networks are Convex Regularizers: Exact Polynomial-time Convex Optimization Formulations for Two-layer Networks\"\n",
    "import numpy as np\n",
    "import cvxpy as cp\n",
    "import matplotlib.pyplot as plt\n",
    "\n",
    "\n",
    "def relu(x):\n",
    "    return np.maximum(0,x)\n",
    "def drelu(x):\n",
    "    return x>=0\n",
    "n=10\n",
    "d=3\n",
    "X=np.random.randn(n,d-1)\n",
    "X=np.append(X,np.ones((n,1)),axis=1)\n",
    "\n",
    "y=((np.linalg.norm(X[:,0:d-1],axis=1)>1)-0.5)*2\n",
    "beta=1e-4\n",
    "\n",
    "\n",
    "dmat=np.empty((n,0))\n",
    "\n",
    "## Finite approximation of all possible sign patterns\n",
    "for i in range(int(1e2)):\n",
    "    u=np.random.randn(d,1)\n",
    "    dmat=np.append(dmat,drelu(np.dot(X,u)),axis=1)\n",
    "\n",
    "dmat=(np.unique(dmat,axis=1))\n",
    "\n",
    "\n",
    "# Optimal CVX\n",
    "m1=dmat.shape[1]\n",
    "Uopt1=cp.Variable((d,m1))\n",
    "Uopt2=cp.Variable((d,m1))\n",
    "\n",
    "## Below we use hinge loss as a performance metric for binary classification\n",
    "yopt1=cp.Parameter((n,1))\n",
    "yopt2=cp.Parameter((n,1))\n",
    "yopt1=cp.sum(cp.multiply(dmat,(X*Uopt1)),axis=1)\n",
    "yopt2=cp.sum(cp.multiply(dmat,(X*Uopt2)),axis=1)\n",
    "cost=cp.sum(cp.pos(1-cp.multiply(y,yopt1-yopt2)))/n+beta*(cp.mixed_norm(Uopt1.T,2,1)+cp.mixed_norm(Uopt2.T,2,1))\n",
    "constraints=[]\n",
    "constraints+=[cp.multiply((2*dmat-np.ones((n,m1))),(X*Uopt1))>=0]\n",
    "constraints+=[cp.multiply((2*dmat-np.ones((n,m1))),(X*Uopt2))>=0]\n",
    "prob=cp.Problem(cp.Minimize(cost),constraints)\n",
    "prob.solve()\n",
    "cvx_opt=prob.value\n",
    "print(\"Convex program objective value (eq (8)): \",cvx_opt)"
   ]
  },
  {
   "cell_type": "code",
   "execution_count": 105,
   "id": "8fc6deb4",
   "metadata": {
    "scrolled": true
   },
   "outputs": [
    {
     "data": {
      "text/plain": [
       "((10, 45), (10, 45))"
      ]
     },
     "execution_count": 105,
     "metadata": {},
     "output_type": "execute_result"
    }
   ],
   "source": [
    "(X @ Uopt1.value).shape, dmat.shape"
   ]
  },
  {
   "cell_type": "code",
   "execution_count": 113,
   "id": "1b8f0224",
   "metadata": {},
   "outputs": [
    {
     "data": {
      "text/plain": [
       "array([-4.44089210e-16,  2.66453526e-15,  2.22044605e-16,  0.00000000e+00,\n",
       "        1.55431223e-15,  2.22044605e-16,  4.44089210e-16,  0.00000000e+00,\n",
       "       -4.44089210e-16,  4.44089210e-16])"
      ]
     },
     "execution_count": 113,
     "metadata": {},
     "output_type": "execute_result"
    }
   ],
   "source": [
    "U = np.sum(np.multiply(dmat, (X @ Uopt1.value)), axis=1)\n",
    "V = np.sum(np.multiply(dmat, (X @ Uopt2.value)), axis=1)\n",
    "(U - V).flatten() - y_hat.flatten()"
   ]
  },
  {
   "cell_type": "code",
   "execution_count": 60,
   "id": "5fcea04d",
   "metadata": {},
   "outputs": [],
   "source": [
    "def h(X, W1, W2):\n",
    "    Z = X @ W1.T\n",
    "    return np.max(Z, 0) @ W2.T"
   ]
  },
  {
   "cell_type": "code",
   "execution_count": 55,
   "id": "f89f4fc2",
   "metadata": {},
   "outputs": [],
   "source": [
    "def relu_solution_mapping(weights, remove_sparse: bool = False):\n",
    "    assert len(weights.shape) == 4\n",
    "\n",
    "    weight_norms = (lab.sum(weights ** 2, axis=-1, keepdims=True)) ** (1 / 4)\n",
    "    normalized_weights = lab.safe_divide(weights, weight_norms)\n",
    "\n",
    "    num_classes = weights.shape[1]\n",
    "    first_layer = None\n",
    "    second_layer = []\n",
    "    for c in range(num_classes):\n",
    "        pre_zeros = [\n",
    "            lab.zeros_like(weight_norms[0, c]) for i in range(2 * c)\n",
    "        ]  # positive neurons\n",
    "        post_zeros = [\n",
    "            lab.zeros_like(weight_norms[0, c])\n",
    "            for i in range(2 * (num_classes - c - 1))\n",
    "        ]\n",
    "\n",
    "        if first_layer is None:\n",
    "            pre_weights = []\n",
    "        else:\n",
    "            pre_weights = [first_layer]\n",
    "\n",
    "        first_layer = lab.concatenate(\n",
    "            pre_weights\n",
    "            + [\n",
    "                normalized_weights[0][c],\n",
    "                normalized_weights[1][c],\n",
    "            ],\n",
    "            axis=0,\n",
    "        )\n",
    "\n",
    "        w2 = lab.concatenate(\n",
    "            pre_zeros\n",
    "            + [\n",
    "                weight_norms[0][c],\n",
    "                -weight_norms[1][c],\n",
    "            ]\n",
    "            + post_zeros,\n",
    "            axis=0,\n",
    "        ).T\n",
    "        second_layer.append(w2)\n",
    "\n",
    "    second_layer = lab.concatenate(second_layer, axis=0)\n",
    "\n",
    "    if remove_sparse:\n",
    "        sparse_indices = lab.sum(first_layer, axis=1) != 0\n",
    "\n",
    "        first_layer = first_layer[sparse_indices]\n",
    "        second_layer = second_layer[:, sparse_indices]\n",
    "\n",
    "    return first_layer, second_layer"
   ]
  },
  {
   "cell_type": "code",
   "execution_count": 56,
   "id": "7173e82c",
   "metadata": {},
   "outputs": [
    {
     "data": {
      "text/plain": [
       "(2, 1, 45, 3)"
      ]
     },
     "execution_count": 56,
     "metadata": {},
     "output_type": "execute_result"
    }
   ],
   "source": [
    "weights = np.asarray([Uopt1.value.T[np.newaxis, ...], Uopt2.value.T[np.newaxis, ...]])\n",
    "weights.shape"
   ]
  },
  {
   "cell_type": "code",
   "execution_count": 57,
   "id": "2743c317",
   "metadata": {},
   "outputs": [
    {
     "data": {
      "text/plain": [
       "((90, 3), (1, 90))"
      ]
     },
     "execution_count": 57,
     "metadata": {},
     "output_type": "execute_result"
    }
   ],
   "source": [
    "first_layer, second_layer = relu_solution_mapping(weights)\n",
    "first_layer.shape, second_layer.shape"
   ]
  },
  {
   "cell_type": "code",
   "execution_count": 61,
   "id": "0c78f1b0",
   "metadata": {},
   "outputs": [
    {
     "data": {
      "text/plain": [
       "array([7.01621409])"
      ]
     },
     "execution_count": 61,
     "metadata": {},
     "output_type": "execute_result"
    }
   ],
   "source": [
    "h(X, first_layer, second_layer)"
   ]
  },
  {
   "cell_type": "code",
   "execution_count": 111,
   "id": "c06de817",
   "metadata": {},
   "outputs": [
    {
     "data": {
      "text/plain": [
       "array([[ 1.        ],\n",
       "       [ 3.69239712],\n",
       "       [-1.        ],\n",
       "       [-1.        ],\n",
       "       [ 1.        ],\n",
       "       [ 1.81576286],\n",
       "       [ 2.80648925],\n",
       "       [-1.        ],\n",
       "       [ 1.        ],\n",
       "       [ 1.        ]])"
      ]
     },
     "execution_count": 111,
     "metadata": {},
     "output_type": "execute_result"
    }
   ],
   "source": [
    "y_hat = np.maximum(X @ first_layer.T, 0) @ second_layer.T\n",
    "y_hat"
   ]
  },
  {
   "cell_type": "code",
   "execution_count": 82,
   "id": "776210bb",
   "metadata": {},
   "outputs": [
    {
     "data": {
      "text/plain": [
       "9.26761211956182"
      ]
     },
     "execution_count": 82,
     "metadata": {},
     "output_type": "execute_result"
    }
   ],
   "source": [
    "np.linalg.norm(y_hat - y) / 2"
   ]
  },
  {
   "cell_type": "code",
   "execution_count": 81,
   "id": "fc98fe70",
   "metadata": {},
   "outputs": [
    {
     "data": {
      "text/plain": [
       "array([1.72471852e-05, 1.72464959e-05, 2.05872716e-05, 2.11135826e-05,\n",
       "       1.60620196e-04, 2.15562773e-05, 2.19494285e-05, 1.60483635e-04,\n",
       "       2.70245345e-05, 1.42338704e-05, 1.72468416e-05, 9.91689329e-01,\n",
       "       9.91456341e-01, 1.91831752e-05, 6.09179436e-04, 1.11612755e+00,\n",
       "       2.02131504e-03, 1.11522212e+00, 1.45998652e-05, 1.38891059e-05,\n",
       "       6.45034297e-05, 1.31228200e-05, 1.26131698e-05, 1.73640856e-05,\n",
       "       1.73350300e-05, 1.74425690e-05, 5.13641651e-01, 1.75074211e-05,\n",
       "       1.03334763e-03, 5.12116138e-01, 1.10797982e+00, 4.44563645e-05,\n",
       "       1.33105418e-05, 1.73580378e-05, 2.36083669e-05, 1.73954804e-05,\n",
       "       7.46217802e-05, 7.41223669e-05, 1.72171970e-05, 1.66962748e-05,\n",
       "       1.71625373e-05, 2.76290318e-05, 1.57590982e-05, 1.60637210e-05,\n",
       "       1.24318090e-05, 1.72471852e-05, 1.72464959e-05, 1.67433679e-05,\n",
       "       1.66045363e-05, 1.53505175e-05, 1.61630280e-05, 1.67846575e-05,\n",
       "       1.45397462e-05, 2.36119061e-05, 2.66919709e-05, 1.72468417e-05,\n",
       "       1.65428988e-05, 1.22442979e-05, 1.68389342e-05, 1.59995542e-05,\n",
       "       1.22417576e-05, 1.26549558e-05, 2.18084329e-05, 2.48662692e-05,\n",
       "       2.71212457e-05, 4.04012672e-05, 5.93381673e-05, 1.54837046e-04,\n",
       "       1.71495837e-05, 1.71685508e-05, 1.70815957e-05, 1.60684906e-05,\n",
       "       1.70112175e-05, 1.56607653e-05, 1.22703822e-05, 1.25767177e-05,\n",
       "       2.19452919e-05, 3.75449545e-05, 1.71513520e-05, 1.66316503e-05,\n",
       "       1.71114795e-05, 1.63368683e-05, 1.52253731e-05, 1.75922866e-05,\n",
       "       1.79172374e-05, 1.75190817e-05, 3.63176580e-05, 4.66838663e-05,\n",
       "       4.69108523e-05, 9.90607587e-01])"
      ]
     },
     "execution_count": 81,
     "metadata": {},
     "output_type": "execute_result"
    }
   ],
   "source": [
    "np.linalg.norm(first_layer, axis=1)"
   ]
  },
  {
   "cell_type": "code",
   "execution_count": 116,
   "id": "d8984da0",
   "metadata": {},
   "outputs": [
    {
     "data": {
      "text/plain": [
       "array([-1.51517465e-09, -2.69239712e+00, -1.66286984e-11, -2.82847301e-10,\n",
       "       -8.18489720e-11, -8.15762858e-01, -1.80648925e+00, -1.02677866e-11,\n",
       "       -1.38005163e-11, -2.74509304e-11])"
      ]
     },
     "execution_count": 116,
     "metadata": {},
     "output_type": "execute_result"
    }
   ],
   "source": [
    "np.max(1 - np.multiply(y.flatten(), y_hat.flatten())"
   ]
  },
  {
   "cell_type": "code",
   "execution_count": null,
   "id": "65c08c4c",
   "metadata": {},
   "outputs": [],
   "source": []
  }
 ],
 "metadata": {
  "kernelspec": {
   "display_name": "Python 3 (ipykernel)",
   "language": "python",
   "name": "python3"
  },
  "language_info": {
   "codemirror_mode": {
    "name": "ipython",
    "version": 3
   },
   "file_extension": ".py",
   "mimetype": "text/x-python",
   "name": "python",
   "nbconvert_exporter": "python",
   "pygments_lexer": "ipython3",
   "version": "3.8.16"
  }
 },
 "nbformat": 4,
 "nbformat_minor": 5
}
